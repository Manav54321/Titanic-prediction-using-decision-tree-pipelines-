{
  "cells": [
    {
      "cell_type": "code",
      "execution_count": 16,
      "metadata": {
        "id": "dJCM3g6W_qSg"
      },
      "outputs": [],
      "source": [
        "import pickle\n",
        "import pandas as pd\n",
        "import numpy as np"
      ]
    },
    {
      "cell_type": "code",
      "execution_count": 17,
      "metadata": {
        "id": "_zaw0ZUS_qSu"
      },
      "outputs": [],
      "source": [
        "pipe = pickle.load(open('pipe.pkl','rb'))"
      ]
    },
    {
      "cell_type": "code",
      "source": [
        "# Assume user input\n",
        "test_input = np.array([2, 'male', 31.0, 0, 0, 10.5, 'S'],dtype=object).reshape(1,7)\n",
        "# Predict using the pipeline\n",
        "result = pipe.predict(pd.DataFrame([test_input.flatten().tolist()], columns=['Pclass', 'Sex', 'Age', 'SibSp', 'Parch', 'Fare', 'Embarked']))\n",
        "print('is survived:',result) # Print the result, or you can use it for further processing\n",
        "\n",
        "if result == 1:\n",
        "    print('Survived')\n",
        "else:\n",
        "    print('Not Survived')"
      ],
      "metadata": {
        "colab": {
          "base_uri": "https://localhost:8080/"
        },
        "id": "DJZovo53AgBJ",
        "outputId": "80b06563-3318-46de-8d6d-5ebaa03e611c"
      },
      "execution_count": 20,
      "outputs": [
        {
          "output_type": "stream",
          "name": "stdout",
          "text": [
            "is survived: [0]\n",
            "Not Survived\n"
          ]
        }
      ]
    },
    {
      "cell_type": "code",
      "source": [],
      "metadata": {
        "id": "JXm-DbTxBhHV"
      },
      "execution_count": null,
      "outputs": []
    }
  ],
  "metadata": {
    "kernelspec": {
      "display_name": "Python 3",
      "language": "python",
      "name": "python3"
    },
    "language_info": {
      "codemirror_mode": {
        "name": "ipython",
        "version": 3
      },
      "file_extension": ".py",
      "mimetype": "text/x-python",
      "name": "python",
      "nbconvert_exporter": "python",
      "pygments_lexer": "ipython3",
      "version": "3.8.3"
    },
    "colab": {
      "provenance": []
    }
  },
  "nbformat": 4,
  "nbformat_minor": 0
}